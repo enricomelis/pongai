{
 "cells": [
  {
   "cell_type": "code",
   "execution_count": 1,
   "metadata": {},
   "outputs": [],
   "source": [
    "import tensorflow as tf\n",
    "import pandas as pd"
   ]
  },
  {
   "cell_type": "markdown",
   "metadata": {},
   "source": [
    "Here, TensorFlow is imported for creating and training the neural network model, \n",
    "and pandas is imported for data manipulation."
   ]
  },
  {
   "cell_type": "code",
   "execution_count": 2,
   "metadata": {},
   "outputs": [],
   "source": [
    "csv_file_path = 'game_states.csv'\n",
    "data = pd.read_csv(csv_file_path)"
   ]
  },
  {
   "cell_type": "markdown",
   "metadata": {},
   "source": [
    "The game state data is read from a CSV file into a pandas DataFrame."
   ]
  },
  {
   "cell_type": "code",
   "execution_count": 3,
   "metadata": {},
   "outputs": [],
   "source": [
    "data['key_up'].replace({'a': 0, 'd': 1}, inplace=True)\n",
    "data['key_up'].fillna(2, inplace=True)\n",
    "data['key_down'].replace({'LEFT': 0, 'RIGHT': 1}, inplace=True)\n",
    "data['key_down'].fillna(2, inplace=True)"
   ]
  },
  {
   "cell_type": "markdown",
   "metadata": {},
   "source": [
    "Here, the key press data for the 'up' paddle and 'down' paddle are converted into numerical values: \n",
    "- 'a' or 'LEFT' is converted to 0, \n",
    "- 'd' or 'RIGHT' to 1, \n",
    "- and NaN (no key press) to 2."
   ]
  },
  {
   "cell_type": "code",
   "execution_count": 4,
   "metadata": {},
   "outputs": [],
   "source": [
    "X = data.drop(columns=['point', 'key_up', 'key_down'])\n",
    "y = data['key_up']"
   ]
  },
  {
   "cell_type": "markdown",
   "metadata": {},
   "source": [
    "The features X and labels y for the model are defined. \n",
    "The features include all columns except 'point', 'key_up', and 'key_down'. \n",
    "The labels are set to be the 'key_up' column, which we're trying to predict."
   ]
  },
  {
   "cell_type": "code",
   "execution_count": 6,
   "metadata": {},
   "outputs": [],
   "source": [
    "from sklearn.model_selection import train_test_split\n",
    "X_train, X_test, y_train, y_test = train_test_split(X, y, test_size=0.2, random_state=42)"
   ]
  },
  {
   "cell_type": "markdown",
   "metadata": {},
   "source": [
    "The data is split into training and testing sets using a 80-20 split.\n",
    "- X and y: These are your features and labels, respectively.\n",
    "- test_size=0.2: This specifies that 20% of the data will be used for testing, and the remaining 80% will be used for training.\n",
    "- random_state=42: This is a random seed for reproducibility. \n",
    "Using the same random_state will produce the same split each time the code is run, which is useful for debugging and comparison."
   ]
  },
  {
   "cell_type": "code",
   "execution_count": 7,
   "metadata": {},
   "outputs": [],
   "source": [
    "def create_model(input_shape):\n",
    "    model = tf.keras.Sequential([\n",
    "        tf.keras.layers.InputLayer(input_shape=input_shape),\n",
    "        tf.keras.layers.Dense(128, activation='relu'),\n",
    "        tf.keras.layers.Dense(64, activation='relu'),\n",
    "        tf.keras.layers.Dense(32, activation='relu'),\n",
    "        tf.keras.layers.Dense(3, activation='softmax')\n",
    "    ])\n",
    "    model.compile(optimizer='adam',\n",
    "                  loss='sparse_categorical_crossentropy',\n",
    "                  metrics=['accuracy'])\n",
    "    return model"
   ]
  },
  {
   "cell_type": "markdown",
   "metadata": {},
   "source": [
    "A function to create the neural network model is defined. \n",
    "- The model has an input layer, followed by three hidden layers with 128, 64, and 32 neurons, \n",
    "and an output layer with 3 neurons (corresponding to the three possible actions).\n",
    "- The InputLayer is initialized with the shape of the data it will receive. This helps TensorFlow optimize the computations.\n",
    "- The first layer is a densely-connected neural network layer with 128 neurons and a ReLU (Rectified Linear Unit) activation function.\n",
    "- Finally, the output layer has 3 neurons, each representing one of the possible actions ('Left', 'Right', 'Stay'). The 'softmax' activation function is used to turn the output into a probability distribution.\n",
    "- Then, you specify the optimizer, loss function, and metrics you want to track. The Adam optimizer and sparse categorical cross-entropy loss are commonly used for classification problems."
   ]
  },
  {
   "cell_type": "code",
   "execution_count": 8,
   "metadata": {},
   "outputs": [
    {
     "name": "stdout",
     "output_type": "stream",
     "text": [
      "Epoch 1/100\n",
      "16/16 [==============================] - 0s 6ms/step - loss: 12.4760 - accuracy: 0.8169 - val_loss: 5.8603 - val_accuracy: 0.9344\n",
      "Epoch 2/100\n",
      "16/16 [==============================] - 0s 2ms/step - loss: 5.4364 - accuracy: 0.8992 - val_loss: 3.0479 - val_accuracy: 0.8607\n",
      "Epoch 3/100\n",
      "16/16 [==============================] - 0s 2ms/step - loss: 2.3977 - accuracy: 0.8889 - val_loss: 1.3444 - val_accuracy: 0.8525\n",
      "Epoch 4/100\n",
      "16/16 [==============================] - 0s 2ms/step - loss: 0.6507 - accuracy: 0.9074 - val_loss: 0.4957 - val_accuracy: 0.9098\n",
      "Epoch 5/100\n",
      "16/16 [==============================] - 0s 2ms/step - loss: 0.4428 - accuracy: 0.9095 - val_loss: 0.5188 - val_accuracy: 0.9344\n",
      "Epoch 6/100\n",
      "16/16 [==============================] - 0s 2ms/step - loss: 0.4252 - accuracy: 0.9239 - val_loss: 0.3032 - val_accuracy: 0.9262\n",
      "Epoch 7/100\n",
      "16/16 [==============================] - 0s 2ms/step - loss: 0.3562 - accuracy: 0.9239 - val_loss: 0.3879 - val_accuracy: 0.9344\n",
      "Epoch 8/100\n",
      "16/16 [==============================] - 0s 2ms/step - loss: 0.3291 - accuracy: 0.9342 - val_loss: 0.3419 - val_accuracy: 0.9344\n",
      "Epoch 9/100\n",
      "16/16 [==============================] - 0s 2ms/step - loss: 0.3715 - accuracy: 0.9239 - val_loss: 0.3369 - val_accuracy: 0.9344\n",
      "Epoch 10/100\n",
      "16/16 [==============================] - 0s 1ms/step - loss: 0.4475 - accuracy: 0.9053 - val_loss: 0.3940 - val_accuracy: 0.9344\n",
      "Epoch 11/100\n",
      "16/16 [==============================] - 0s 2ms/step - loss: 0.3157 - accuracy: 0.9362 - val_loss: 0.3604 - val_accuracy: 0.9344\n",
      "Epoch 12/100\n",
      "16/16 [==============================] - 0s 1ms/step - loss: 0.4405 - accuracy: 0.9074 - val_loss: 0.4010 - val_accuracy: 0.9344\n",
      "Epoch 13/100\n",
      "16/16 [==============================] - 0s 2ms/step - loss: 0.3674 - accuracy: 0.9321 - val_loss: 0.5249 - val_accuracy: 0.7951\n",
      "Epoch 14/100\n",
      "16/16 [==============================] - 0s 2ms/step - loss: 0.4228 - accuracy: 0.9136 - val_loss: 0.4200 - val_accuracy: 0.9344\n",
      "Epoch 15/100\n",
      "16/16 [==============================] - 0s 1ms/step - loss: 0.4403 - accuracy: 0.9115 - val_loss: 0.3025 - val_accuracy: 0.9180\n",
      "Epoch 16/100\n",
      "16/16 [==============================] - 0s 1ms/step - loss: 0.3689 - accuracy: 0.9218 - val_loss: 0.7804 - val_accuracy: 0.6639\n",
      "Epoch 17/100\n",
      "16/16 [==============================] - 0s 2ms/step - loss: 0.4687 - accuracy: 0.8889 - val_loss: 0.6198 - val_accuracy: 0.9262\n",
      "Epoch 18/100\n",
      "16/16 [==============================] - 0s 2ms/step - loss: 0.3741 - accuracy: 0.9280 - val_loss: 0.3230 - val_accuracy: 0.9098\n",
      "Epoch 19/100\n",
      "16/16 [==============================] - 0s 1ms/step - loss: 0.5219 - accuracy: 0.9177 - val_loss: 0.7374 - val_accuracy: 0.7541\n",
      "Epoch 20/100\n",
      "16/16 [==============================] - 0s 1ms/step - loss: 0.4441 - accuracy: 0.9074 - val_loss: 0.4804 - val_accuracy: 0.9016\n",
      "Epoch 21/100\n",
      "16/16 [==============================] - 0s 1ms/step - loss: 0.2445 - accuracy: 0.9362 - val_loss: 0.3550 - val_accuracy: 0.9180\n",
      "Epoch 22/100\n",
      "16/16 [==============================] - 0s 3ms/step - loss: 0.2661 - accuracy: 0.9300 - val_loss: 0.4807 - val_accuracy: 0.6721\n",
      "Epoch 23/100\n",
      "16/16 [==============================] - 0s 1ms/step - loss: 0.3036 - accuracy: 0.9156 - val_loss: 0.2937 - val_accuracy: 0.9016\n",
      "Epoch 24/100\n",
      "16/16 [==============================] - 0s 1ms/step - loss: 0.2420 - accuracy: 0.9362 - val_loss: 0.2438 - val_accuracy: 0.9098\n",
      "Epoch 25/100\n",
      "16/16 [==============================] - 0s 1ms/step - loss: 0.2706 - accuracy: 0.9156 - val_loss: 0.2682 - val_accuracy: 0.9262\n",
      "Epoch 26/100\n",
      "16/16 [==============================] - 0s 1ms/step - loss: 0.2719 - accuracy: 0.9259 - val_loss: 0.3139 - val_accuracy: 0.9344\n",
      "Epoch 27/100\n",
      "16/16 [==============================] - 0s 1ms/step - loss: 0.2833 - accuracy: 0.9362 - val_loss: 0.4227 - val_accuracy: 0.9016\n",
      "Epoch 28/100\n",
      "16/16 [==============================] - 0s 1ms/step - loss: 0.3959 - accuracy: 0.9300 - val_loss: 0.3742 - val_accuracy: 0.8770\n",
      "Epoch 29/100\n",
      "16/16 [==============================] - 0s 1ms/step - loss: 0.4035 - accuracy: 0.9239 - val_loss: 0.4901 - val_accuracy: 0.9016\n",
      "Epoch 30/100\n",
      "16/16 [==============================] - 0s 1ms/step - loss: 0.3785 - accuracy: 0.9300 - val_loss: 0.3701 - val_accuracy: 0.9344\n",
      "Epoch 31/100\n",
      "16/16 [==============================] - 0s 1ms/step - loss: 0.3384 - accuracy: 0.9053 - val_loss: 0.4696 - val_accuracy: 0.9344\n",
      "Epoch 32/100\n",
      "16/16 [==============================] - 0s 1ms/step - loss: 0.2945 - accuracy: 0.9156 - val_loss: 0.2792 - val_accuracy: 0.9180\n",
      "Epoch 33/100\n",
      "16/16 [==============================] - 0s 2ms/step - loss: 0.2272 - accuracy: 0.9280 - val_loss: 0.3063 - val_accuracy: 0.9180\n",
      "Epoch 34/100\n",
      "16/16 [==============================] - 0s 1ms/step - loss: 0.2564 - accuracy: 0.9383 - val_loss: 0.3069 - val_accuracy: 0.9262\n",
      "Epoch 35/100\n",
      "16/16 [==============================] - 0s 1ms/step - loss: 0.2962 - accuracy: 0.9156 - val_loss: 1.2571 - val_accuracy: 0.4590\n",
      "Epoch 36/100\n",
      "16/16 [==============================] - 0s 1ms/step - loss: 0.5417 - accuracy: 0.8909 - val_loss: 0.4213 - val_accuracy: 0.9344\n",
      "Epoch 37/100\n",
      "16/16 [==============================] - 0s 1ms/step - loss: 0.2976 - accuracy: 0.9074 - val_loss: 0.4193 - val_accuracy: 0.9344\n",
      "Epoch 38/100\n",
      "16/16 [==============================] - 0s 1ms/step - loss: 0.5187 - accuracy: 0.9198 - val_loss: 0.5685 - val_accuracy: 0.9344\n",
      "Epoch 39/100\n",
      "16/16 [==============================] - 0s 1ms/step - loss: 0.6592 - accuracy: 0.8930 - val_loss: 0.4309 - val_accuracy: 0.9344\n",
      "Epoch 40/100\n",
      "16/16 [==============================] - 0s 1ms/step - loss: 0.7403 - accuracy: 0.9218 - val_loss: 0.4313 - val_accuracy: 0.9180\n",
      "Epoch 41/100\n",
      "16/16 [==============================] - 0s 1ms/step - loss: 0.3904 - accuracy: 0.9198 - val_loss: 0.3986 - val_accuracy: 0.8770\n",
      "Epoch 42/100\n",
      "16/16 [==============================] - 0s 1ms/step - loss: 0.3119 - accuracy: 0.9280 - val_loss: 0.2512 - val_accuracy: 0.9262\n",
      "Epoch 43/100\n",
      "16/16 [==============================] - 0s 1ms/step - loss: 0.3053 - accuracy: 0.9074 - val_loss: 0.5940 - val_accuracy: 0.9344\n",
      "Epoch 44/100\n",
      "16/16 [==============================] - 0s 1ms/step - loss: 0.3577 - accuracy: 0.9321 - val_loss: 0.2651 - val_accuracy: 0.9344\n",
      "Epoch 45/100\n",
      "16/16 [==============================] - 0s 1ms/step - loss: 0.2532 - accuracy: 0.9177 - val_loss: 0.3166 - val_accuracy: 0.9098\n",
      "Epoch 46/100\n",
      "16/16 [==============================] - 0s 1ms/step - loss: 0.2049 - accuracy: 0.9362 - val_loss: 0.5352 - val_accuracy: 0.7541\n",
      "Epoch 47/100\n",
      "16/16 [==============================] - 0s 1ms/step - loss: 0.2622 - accuracy: 0.9280 - val_loss: 0.2603 - val_accuracy: 0.9180\n",
      "Epoch 48/100\n",
      "16/16 [==============================] - 0s 1ms/step - loss: 0.1864 - accuracy: 0.9362 - val_loss: 0.2744 - val_accuracy: 0.9180\n",
      "Epoch 49/100\n",
      "16/16 [==============================] - 0s 1ms/step - loss: 0.1752 - accuracy: 0.9444 - val_loss: 0.3200 - val_accuracy: 0.9180\n",
      "Epoch 50/100\n",
      "16/16 [==============================] - 0s 1ms/step - loss: 0.2071 - accuracy: 0.9444 - val_loss: 0.2802 - val_accuracy: 0.9180\n",
      "Epoch 51/100\n",
      "16/16 [==============================] - 0s 7ms/step - loss: 0.2844 - accuracy: 0.9218 - val_loss: 0.6273 - val_accuracy: 0.8033\n",
      "Epoch 52/100\n",
      "16/16 [==============================] - 0s 2ms/step - loss: 0.3822 - accuracy: 0.9239 - val_loss: 0.3756 - val_accuracy: 0.9262\n",
      "Epoch 53/100\n",
      "16/16 [==============================] - 0s 1ms/step - loss: 0.2270 - accuracy: 0.9383 - val_loss: 0.2740 - val_accuracy: 0.9344\n",
      "Epoch 54/100\n",
      "16/16 [==============================] - 0s 2ms/step - loss: 0.2185 - accuracy: 0.9342 - val_loss: 0.2459 - val_accuracy: 0.9344\n",
      "Epoch 55/100\n",
      "16/16 [==============================] - 0s 2ms/step - loss: 0.1888 - accuracy: 0.9465 - val_loss: 0.2836 - val_accuracy: 0.9344\n",
      "Epoch 56/100\n",
      "16/16 [==============================] - 0s 2ms/step - loss: 0.3114 - accuracy: 0.9362 - val_loss: 0.2225 - val_accuracy: 0.9344\n",
      "Epoch 57/100\n",
      "16/16 [==============================] - 0s 1ms/step - loss: 0.2799 - accuracy: 0.9321 - val_loss: 0.3720 - val_accuracy: 0.9262\n",
      "Epoch 58/100\n",
      "16/16 [==============================] - 0s 1ms/step - loss: 0.2399 - accuracy: 0.9403 - val_loss: 0.3638 - val_accuracy: 0.9180\n",
      "Epoch 59/100\n",
      "16/16 [==============================] - 0s 1ms/step - loss: 0.2436 - accuracy: 0.9300 - val_loss: 0.3060 - val_accuracy: 0.9426\n",
      "Epoch 60/100\n",
      "16/16 [==============================] - 0s 1ms/step - loss: 0.2092 - accuracy: 0.9424 - val_loss: 0.2465 - val_accuracy: 0.9344\n",
      "Epoch 61/100\n",
      "16/16 [==============================] - 0s 1ms/step - loss: 0.1968 - accuracy: 0.9486 - val_loss: 0.2645 - val_accuracy: 0.9344\n",
      "Epoch 62/100\n",
      "16/16 [==============================] - 0s 1ms/step - loss: 0.2031 - accuracy: 0.9383 - val_loss: 0.2857 - val_accuracy: 0.9262\n",
      "Epoch 63/100\n",
      "16/16 [==============================] - 0s 1ms/step - loss: 0.2169 - accuracy: 0.9383 - val_loss: 0.2064 - val_accuracy: 0.9344\n",
      "Epoch 64/100\n",
      "16/16 [==============================] - 0s 1ms/step - loss: 0.1947 - accuracy: 0.9383 - val_loss: 0.2387 - val_accuracy: 0.9262\n",
      "Epoch 65/100\n",
      "16/16 [==============================] - 0s 1ms/step - loss: 0.2151 - accuracy: 0.9342 - val_loss: 0.3081 - val_accuracy: 0.9344\n",
      "Epoch 66/100\n",
      "16/16 [==============================] - 0s 1ms/step - loss: 0.2443 - accuracy: 0.9342 - val_loss: 0.2349 - val_accuracy: 0.9426\n",
      "Epoch 67/100\n",
      "16/16 [==============================] - 0s 1ms/step - loss: 0.1711 - accuracy: 0.9486 - val_loss: 0.2494 - val_accuracy: 0.9344\n",
      "Epoch 68/100\n",
      "16/16 [==============================] - 0s 1ms/step - loss: 0.1891 - accuracy: 0.9486 - val_loss: 0.3031 - val_accuracy: 0.9344\n",
      "Epoch 69/100\n",
      "16/16 [==============================] - 0s 2ms/step - loss: 0.2078 - accuracy: 0.9403 - val_loss: 0.2900 - val_accuracy: 0.9344\n",
      "Epoch 70/100\n",
      "16/16 [==============================] - 0s 1ms/step - loss: 0.2423 - accuracy: 0.9300 - val_loss: 0.4079 - val_accuracy: 0.9344\n",
      "Epoch 71/100\n",
      "16/16 [==============================] - 0s 2ms/step - loss: 0.2953 - accuracy: 0.9300 - val_loss: 0.4153 - val_accuracy: 0.9344\n",
      "Epoch 72/100\n",
      "16/16 [==============================] - 0s 1ms/step - loss: 0.2280 - accuracy: 0.9362 - val_loss: 0.2649 - val_accuracy: 0.9344\n",
      "Epoch 73/100\n",
      "16/16 [==============================] - 0s 1ms/step - loss: 0.2191 - accuracy: 0.9321 - val_loss: 0.3445 - val_accuracy: 0.9098\n",
      "Epoch 74/100\n",
      "16/16 [==============================] - 0s 1ms/step - loss: 0.1963 - accuracy: 0.9506 - val_loss: 0.2906 - val_accuracy: 0.9590\n",
      "Epoch 75/100\n",
      "16/16 [==============================] - 0s 1ms/step - loss: 0.2228 - accuracy: 0.9424 - val_loss: 0.2629 - val_accuracy: 0.9508\n",
      "Epoch 76/100\n",
      "16/16 [==============================] - 0s 1ms/step - loss: 0.1989 - accuracy: 0.9383 - val_loss: 0.2957 - val_accuracy: 0.9426\n",
      "Epoch 77/100\n",
      "16/16 [==============================] - 0s 1ms/step - loss: 0.2052 - accuracy: 0.9362 - val_loss: 0.4126 - val_accuracy: 0.7951\n",
      "Epoch 78/100\n",
      "16/16 [==============================] - 0s 1ms/step - loss: 0.2511 - accuracy: 0.9074 - val_loss: 0.3538 - val_accuracy: 0.9344\n",
      "Epoch 79/100\n",
      "16/16 [==============================] - 0s 2ms/step - loss: 0.2215 - accuracy: 0.9444 - val_loss: 0.4555 - val_accuracy: 0.9344\n",
      "Epoch 80/100\n",
      "16/16 [==============================] - 0s 3ms/step - loss: 0.2344 - accuracy: 0.9465 - val_loss: 0.4003 - val_accuracy: 0.9426\n",
      "Epoch 81/100\n",
      "16/16 [==============================] - 0s 2ms/step - loss: 0.1874 - accuracy: 0.9362 - val_loss: 0.4630 - val_accuracy: 0.9344\n",
      "Epoch 82/100\n",
      "16/16 [==============================] - 0s 1ms/step - loss: 0.2466 - accuracy: 0.9383 - val_loss: 0.3155 - val_accuracy: 0.9426\n",
      "Epoch 83/100\n",
      "16/16 [==============================] - 0s 1ms/step - loss: 0.1870 - accuracy: 0.9547 - val_loss: 0.2703 - val_accuracy: 0.9590\n",
      "Epoch 84/100\n",
      "16/16 [==============================] - 0s 1ms/step - loss: 0.2398 - accuracy: 0.9444 - val_loss: 0.4713 - val_accuracy: 0.7787\n",
      "Epoch 85/100\n",
      "16/16 [==============================] - 0s 1ms/step - loss: 0.3520 - accuracy: 0.9198 - val_loss: 0.2823 - val_accuracy: 0.9344\n",
      "Epoch 86/100\n",
      "16/16 [==============================] - 0s 1ms/step - loss: 0.2552 - accuracy: 0.9403 - val_loss: 0.3971 - val_accuracy: 0.9344\n",
      "Epoch 87/100\n",
      "16/16 [==============================] - 0s 1ms/step - loss: 0.1883 - accuracy: 0.9403 - val_loss: 0.3100 - val_accuracy: 0.9426\n",
      "Epoch 88/100\n",
      "16/16 [==============================] - 0s 1ms/step - loss: 0.2075 - accuracy: 0.9424 - val_loss: 0.3800 - val_accuracy: 0.9426\n",
      "Epoch 89/100\n",
      "16/16 [==============================] - 0s 1ms/step - loss: 0.2344 - accuracy: 0.9444 - val_loss: 0.3160 - val_accuracy: 0.9508\n",
      "Epoch 90/100\n",
      "16/16 [==============================] - 0s 1ms/step - loss: 0.2980 - accuracy: 0.9280 - val_loss: 0.2948 - val_accuracy: 0.9426\n",
      "Epoch 91/100\n",
      "16/16 [==============================] - 0s 1ms/step - loss: 0.1903 - accuracy: 0.9424 - val_loss: 0.2889 - val_accuracy: 0.9262\n",
      "Epoch 92/100\n",
      "16/16 [==============================] - 0s 1ms/step - loss: 0.1583 - accuracy: 0.9547 - val_loss: 0.2951 - val_accuracy: 0.9262\n",
      "Epoch 93/100\n",
      "16/16 [==============================] - 0s 1ms/step - loss: 0.1576 - accuracy: 0.9547 - val_loss: 0.3406 - val_accuracy: 0.9426\n",
      "Epoch 94/100\n",
      "16/16 [==============================] - 0s 1ms/step - loss: 0.1636 - accuracy: 0.9486 - val_loss: 0.3194 - val_accuracy: 0.9508\n",
      "Epoch 95/100\n",
      "16/16 [==============================] - 0s 1ms/step - loss: 0.2809 - accuracy: 0.9362 - val_loss: 0.3432 - val_accuracy: 0.9426\n",
      "Epoch 96/100\n",
      "16/16 [==============================] - 0s 1ms/step - loss: 0.2969 - accuracy: 0.9095 - val_loss: 0.6421 - val_accuracy: 0.9344\n",
      "Epoch 97/100\n",
      "16/16 [==============================] - 0s 1ms/step - loss: 0.3200 - accuracy: 0.9465 - val_loss: 0.3280 - val_accuracy: 0.9262\n",
      "Epoch 98/100\n",
      "16/16 [==============================] - 0s 1ms/step - loss: 0.2073 - accuracy: 0.9424 - val_loss: 0.2931 - val_accuracy: 0.9262\n",
      "Epoch 99/100\n",
      "16/16 [==============================] - 0s 1ms/step - loss: 0.1755 - accuracy: 0.9465 - val_loss: 0.3168 - val_accuracy: 0.9344\n",
      "Epoch 100/100\n",
      "16/16 [==============================] - 0s 1ms/step - loss: 0.2162 - accuracy: 0.9403 - val_loss: 0.5607 - val_accuracy: 0.9344\n"
     ]
    },
    {
     "data": {
      "text/plain": [
       "<keras.src.callbacks.History at 0x162c92a10>"
      ]
     },
     "execution_count": 8,
     "metadata": {},
     "output_type": "execute_result"
    }
   ],
   "source": [
    "input_shape = X_train.shape[1]\n",
    "model = create_model(input_shape)\n",
    "model.fit(X_train, y_train, epochs=100, batch_size=32, validation_data=(X_test, y_test))"
   ]
  },
  {
   "cell_type": "markdown",
   "metadata": {},
   "source": [
    "The model is trained using the training data for 100 epochs. The batch size is set to 32."
   ]
  },
  {
   "cell_type": "code",
   "execution_count": 9,
   "metadata": {},
   "outputs": [
    {
     "name": "stderr",
     "output_type": "stream",
     "text": [
      "/Users/enricomelis/anaconda3/lib/python3.11/site-packages/keras/src/engine/training.py:3000: UserWarning: You are saving your model as an HDF5 file via `model.save()`. This file format is considered legacy. We recommend using instead the native Keras format, e.g. `model.save('my_model.keras')`.\n",
      "  saving_api.save_model(\n"
     ]
    }
   ],
   "source": [
    "model.save('pong_game_model.h5')"
   ]
  },
  {
   "cell_type": "markdown",
   "metadata": {},
   "source": [
    "Finally, the trained model is saved to a file named pong_game_model.h5."
   ]
  },
  {
   "cell_type": "markdown",
   "metadata": {},
   "source": []
  }
 ],
 "metadata": {
  "kernelspec": {
   "display_name": "base",
   "language": "python",
   "name": "python3"
  },
  "language_info": {
   "codemirror_mode": {
    "name": "ipython",
    "version": 3
   },
   "file_extension": ".py",
   "mimetype": "text/x-python",
   "name": "python",
   "nbconvert_exporter": "python",
   "pygments_lexer": "ipython3",
   "version": "3.11.5"
  },
  "orig_nbformat": 4
 },
 "nbformat": 4,
 "nbformat_minor": 2
}
